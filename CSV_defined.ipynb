{
 "cells": [
  {
   "cell_type": "markdown",
   "source": [
    "# Definición de CSVs"
   ],
   "metadata": {
    "collapsed": false
   }
  },
  {
   "cell_type": "markdown",
   "source": [
    "- Se importa la librería pandas"
   ],
   "metadata": {
    "collapsed": false
   }
  },
  {
   "cell_type": "code",
   "execution_count": 2,
   "metadata": {
    "collapsed": true
   },
   "outputs": [],
   "source": [
    "import pandas as pd"
   ]
  },
  {
   "cell_type": "markdown",
   "source": [
    "- Se descarga la tabla sp500 de wikipedia."
   ],
   "metadata": {
    "collapsed": false
   }
  },
  {
   "cell_type": "code",
   "execution_count": 3,
   "outputs": [],
   "source": [
    "url = 'https://en.wikipedia.org/wiki/List_of_S%26P_500_companies'\n",
    "\n",
    "df_sp500 = pd.read_html(url, header=0)[0]\n"
   ],
   "metadata": {
    "collapsed": false
   }
  },
  {
   "cell_type": "markdown",
   "source": [
    "- Se leen los archivos csv con los valores del sp500."
   ],
   "metadata": {
    "collapsed": false
   }
  },
  {
   "cell_type": "code",
   "execution_count": 4,
   "outputs": [],
   "source": [
    "open = pd.read_csv('data/open.csv')\n",
    "high = pd.read_csv('data/high.csv')\n",
    "low = pd.read_csv('data/low.csv')\n",
    "close = pd.read_csv('data/close.csv')\n",
    "volume = pd.read_csv('data/volume.csv')"
   ],
   "metadata": {
    "collapsed": false
   }
  },
  {
   "cell_type": "markdown",
   "source": [
    "- Se define la lista del nombre de sectores."
   ],
   "metadata": {
    "collapsed": false
   }
  },
  {
   "cell_type": "code",
   "execution_count": 5,
   "outputs": [],
   "source": [
    "sector_names = ['Communication Services', 'Consumer Discretionary', 'Consumer Staples', 'Energy',\n",
    "                'Financials', 'Health Care', 'Industrials', 'Information Technology', 'Materials',\n",
    "                'Real Estate', 'Utilities']"
   ],
   "metadata": {
    "collapsed": false
   }
  },
  {
   "cell_type": "markdown",
   "source": [
    "- Se define la función para extraer los datos combinados por sector."
   ],
   "metadata": {
    "collapsed": false
   }
  },
  {
   "cell_type": "code",
   "execution_count": 6,
   "outputs": [],
   "source": [
    "def df_categorize(data1:pd.DataFrame, data2:pd.DataFrame):\n",
    "    '''\n",
    "    :param data1: Dataframe guía de las empresas pertenecientes al S&P\n",
    "    :param data2: Dataframe extraído de yfinance con todos los valores de tipo \"open\", \"close\", \"high\", \"low\" y \"volume\"\n",
    "    :return: Una serie de dataframes extraídos de \"data2\" categorizados por el sector en el que se desempeña cada empresa según la columna \"GICS Sector\" del dataframe \"data1\".\n",
    "    '''\n",
    "\n",
    "    combined = pd.merge(data1, data2.T, left_on='Symbol', right_index=True)\n",
    "\n",
    "    sector_groups = combined.groupby('GICS Sector')\n",
    "\n",
    "    sector_dfs = []\n",
    "    for sector, sector_df in sector_groups:\n",
    "        sector_dfs.append(sector_df)\n",
    "\n",
    "    return sector_dfs"
   ],
   "metadata": {
    "collapsed": false
   }
  },
  {
   "cell_type": "markdown",
   "source": [
    "- Se define la función que crea una lista de dataframes que elimina las columnas que no serán utilizadas en el proyecto."
   ],
   "metadata": {
    "collapsed": false
   }
  },
  {
   "cell_type": "code",
   "execution_count": 7,
   "outputs": [],
   "source": [
    "def sector_drop(sector_dfs: pd.DataFrame, num:int):\n",
    "    ''' :param sector_dfs: Lista de dataframes para extraer uno de ellos.\n",
    "    :param num: Este número define qué dataframe de la lista de dataframe será extraído\n",
    "    :return: Un dataframe extraído de la lista de dataframes ak que se le han eliminado las columnas que no son relevantes para los pasos siguientes de la extracción de datos. '''\n",
    "    df_final = sector_dfs[num].T\n",
    "    df_final.rename(columns=df_final.iloc[0], inplace=True)\n",
    "    df_final.drop(['Symbol', 'Security', 'GICS Sector', 'GICS Sub-Industry', 'Date added',\n",
    "                   'Headquarters Location', 'CIK', 'Founded'], inplace=True)\n",
    "\n",
    "    return df_final"
   ],
   "metadata": {
    "collapsed": false
   }
  },
  {
   "cell_type": "markdown",
   "source": [
    "- Se concatenan los dataframes de los valores del SP500 y se define el OHLC de todo el dataframe."
   ],
   "metadata": {
    "collapsed": false
   }
  },
  {
   "cell_type": "code",
   "execution_count": 9,
   "outputs": [],
   "source": [
    "total_ohlc = pd.concat([open, high, low, close])\n",
    "total_ohlc = (total_ohlc.groupby(by='Date', axis=0).sum()/4)"
   ],
   "metadata": {
    "collapsed": false
   }
  },
  {
   "cell_type": "markdown",
   "source": [
    "- Se extrae el OHLC del SP500. y se guarda como csv"
   ],
   "metadata": {
    "collapsed": false
   }
  },
  {
   "cell_type": "markdown",
   "source": [],
   "metadata": {
    "collapsed": false
   }
  },
  {
   "cell_type": "code",
   "execution_count": 10,
   "outputs": [],
   "source": [
    "spy_df = total_ohlc['SPY']\n",
    "spy_df.to_csv('data/ohlc_SPY.csv', index=True)"
   ],
   "metadata": {
    "collapsed": false
   }
  },
  {
   "cell_type": "markdown",
   "source": [
    "- Se separa el dataframe de OHLC por categorías."
   ],
   "metadata": {
    "collapsed": false
   }
  },
  {
   "cell_type": "code",
   "execution_count": 11,
   "outputs": [],
   "source": [
    "total_ohlc_categorized = df_categorize(df_sp500, total_ohlc)"
   ],
   "metadata": {
    "collapsed": false
   }
  },
  {
   "cell_type": "markdown",
   "source": [
    "- Se crea un dataframe del ohlc con cada sector en una lista."
   ],
   "metadata": {
    "collapsed": false
   }
  },
  {
   "cell_type": "code",
   "execution_count": 12,
   "outputs": [],
   "source": [
    "ohlc_sector_data = [sector_drop(total_ohlc_categorized, i) for i in range(len(total_ohlc_categorized))]\n",
    "ohlc_sector_data = [ohlc_sector_data[i] for i, name in enumerate(sector_names)]"
   ],
   "metadata": {
    "collapsed": false
   }
  },
  {
   "cell_type": "markdown",
   "source": [
    "- Se define la lista con los nombres de los archivos que serán guardados en la carpeta data.\n",
    "- Se guardan los archivos csv con cada dataframe definido anteriormente."
   ],
   "metadata": {
    "collapsed": false
   }
  },
  {
   "cell_type": "code",
   "execution_count": 13,
   "outputs": [],
   "source": [
    "df_names = ['ohlc_communication_services', 'ohlc_consumer_discretionary', 'ohlc_consumer_staples',\n",
    "            'ohlc_energy', 'ohlc_financials', 'ohlc_health_care', 'ohlc_industrials',\n",
    "            'ohlc_information_technology', 'ohlc_materials', 'ohlc_real_estate', 'ohlc_utilities']\n",
    "\n",
    "i=0\n",
    "for df in ohlc_sector_data:\n",
    "    df.to_csv(f'data/{df_names[i]}.csv', index=True)\n",
    "    i+=1"
   ],
   "metadata": {
    "collapsed": false
   }
  },
  {
   "cell_type": "markdown",
   "source": [
    "- Se definen los nombres de los promedios.\n",
    "- Se crea un dataset con los promedios de cada symbol separado por sector."
   ],
   "metadata": {
    "collapsed": false
   }
  },
  {
   "cell_type": "code",
   "execution_count": 39,
   "outputs": [],
   "source": [
    "df_names_avg = ['avg_communication_services', 'avg_consumer_discretionary', 'avg_consumer_staples',\n",
    "                'avg_energy', 'avg_financials', 'avg_health_care', 'avg_industrials',\n",
    "                'avg_information_technology', 'avg_materials', 'avg_real_estate', 'avg_utilities']\n",
    "df_means = []\n",
    "\n",
    "for df in ohlc_sector_data:\n",
    "    df_means.append(df.mean())\n",
    "\n",
    "df_sector = []\n",
    "i = 0\n",
    "for df in df_means:\n",
    "    df = pd.DataFrame(df)\n",
    "    df['Sector'] = sector_names[i]\n",
    "    df_sector.append(df)\n",
    "    i += 1\n",
    "\n",
    "i = 0\n",
    "for df in df_sector:\n",
    "    df.to_csv(f'data/{df_names_avg[i]}.csv', index=True)\n",
    "    i += 1"
   ],
   "metadata": {
    "collapsed": false
   }
  },
  {
   "cell_type": "markdown",
   "source": [
    "- Se define un dataset con todos los promedios de cada simbolo separado por sector."
   ],
   "metadata": {
    "collapsed": false
   }
  },
  {
   "cell_type": "code",
   "execution_count": 44,
   "outputs": [],
   "source": [
    "total_sectors_avgs = pd.concat([df_sector[0], df_sector[1], df_sector[2], df_sector[3], df_sector[4],\n",
    "                        df_sector[5], df_sector[6], df_sector[7], df_sector[8], df_sector[9],\n",
    "                        df_sector[10]])\n",
    "total_sectors_avgs.to_csv(f'data/Total sectors averages.csv', index=True)"
   ],
   "metadata": {
    "collapsed": false
   }
  },
  {
   "cell_type": "code",
   "execution_count": 31,
   "outputs": [],
   "source": [
    "df_avgs = pd.DataFrame({'Sectors': [sector_names[0], sector_names[1], sector_names[2], sector_names[3],\n",
    "                                    sector_names[4], sector_names[5], sector_names[6], sector_names[7],\n",
    "                                    sector_names[8], sector_names[9], sector_names[10]],\n",
    "                        'Media': [df_means[0].mean(),df_means[1].mean(),df_means[2].mean(),\n",
    "                                  df_means[3].mean(),df_means[4].mean(),df_means[5].mean(),\n",
    "                                  df_means[6].mean(),df_means[7].mean(),df_means[8].mean(),\n",
    "                                  df_means[9].mean(),df_means[10].mean()]\n",
    "                        })"
   ],
   "metadata": {
    "collapsed": false
   }
  },
  {
   "cell_type": "code",
   "execution_count": 32,
   "outputs": [],
   "source": [
    "df_avgs.to_csv('data/sector_avgs.csv', index=False)"
   ],
   "metadata": {
    "collapsed": false
   }
  }
 ],
 "metadata": {
  "kernelspec": {
   "display_name": "Python 3",
   "language": "python",
   "name": "python3"
  },
  "language_info": {
   "codemirror_mode": {
    "name": "ipython",
    "version": 2
   },
   "file_extension": ".py",
   "mimetype": "text/x-python",
   "name": "python",
   "nbconvert_exporter": "python",
   "pygments_lexer": "ipython2",
   "version": "2.7.6"
  }
 },
 "nbformat": 4,
 "nbformat_minor": 0
}
